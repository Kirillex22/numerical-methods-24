{
 "cells": [
  {
   "cell_type": "code",
   "execution_count": 12,
   "id": "initial_id",
   "metadata": {
    "jupyter": {
     "is_executing": true
    }
   },
   "outputs": [],
   "source": [
    "from iteration_methods import Solver\n",
    "\n",
    "s = Solver()\n",
    "s.target_function = lambda x: x**3 + x - 3\n",
    "s.derivatives = [\n",
    "    lambda x: 3*x**2 + 1,\n",
    "    lambda x: 6*x\n",
    "]"
   ]
  },
  {
   "cell_type": "code",
   "execution_count": 13,
   "id": "afdba6674e4b47b2",
   "metadata": {},
   "outputs": [],
   "source": [
    "s.eps = 0.01\n",
    "a = 0\n",
    "b = 2\n",
    "#(f(a) = -3, f(b) = 7)"
   ]
  },
  {
   "cell_type": "markdown",
   "id": "b60de1f8724cc0dd",
   "metadata": {},
   "source": [
    "## Обязательные методы"
   ]
  },
  {
   "cell_type": "code",
   "execution_count": 14,
   "id": "2217a85f219ec103",
   "metadata": {},
   "outputs": [
    {
     "name": "stdout",
     "output_type": "stream",
     "text": [
      "1.215 \n",
      " +-------+-------+-------+--------+---------+------+\n",
      "|   a   |   b   |  x_0  | F(x_0) | |b - a| | eps  |\n",
      "+-------+-------+-------+--------+---------+------+\n",
      "|   0   |   2   |  1.0  |  -1.0  |   1.0   | 0.01 |\n",
      "|  1.0  |   2   |  1.5  | 1.875  |   0.5   | 0.01 |\n",
      "|  1.0  |  1.5  |  1.25 | 0.203  |   0.25  | 0.01 |\n",
      "|  1.0  |  1.25 | 1.125 | -0.451 |  0.125  | 0.01 |\n",
      "| 1.125 |  1.25 | 1.188 | -0.138 |  0.062  | 0.01 |\n",
      "| 1.188 |  1.25 | 1.219 | 0.029  |  0.031  | 0.01 |\n",
      "| 1.188 | 1.219 | 1.203 | -0.055 |  0.016  | 0.01 |\n",
      "| 1.203 | 1.219 | 1.211 | -0.013 |  0.008  | 0.01 |\n",
      "+-------+-------+-------+--------+---------+------+\n"
     ]
    }
   ],
   "source": [
    "print(\n",
    "    s.dividing_in_half(a, b),\n",
    "    '\\n',\n",
    "    s.get_log('dividing_in_half')\n",
    ")"
   ]
  },
  {
   "cell_type": "code",
   "execution_count": 15,
   "id": "25c1b66b618d15a7",
   "metadata": {},
   "outputs": [
    {
     "name": "stdout",
     "output_type": "stream",
     "text": [
      "1.214 \n",
      " +-------+-------+-------+------+\n",
      "|   x   |  F(x) | F'(x) | eps  |\n",
      "+-------+-------+-------+------+\n",
      "| 1.462 | 1.584 | 7.408 | 0.01 |\n",
      "| 1.248 | 0.191 | 5.671 | 0.01 |\n",
      "| 1.214 | 0.004 | 5.423 | 0.01 |\n",
      "+-------+-------+-------+------+\n"
     ]
    }
   ],
   "source": [
    "print(\n",
    "    s.newton(a, b),\n",
    "    '\\n',\n",
    "    s.get_log('newton')\n",
    ")"
   ]
  },
  {
   "cell_type": "code",
   "execution_count": 16,
   "id": "212d8189ba53d557",
   "metadata": {},
   "outputs": [
    {
     "name": "stdout",
     "output_type": "stream",
     "text": [
      "1.227 \n",
      " +-------+-------+-------+------+\n",
      "| x_i-1 |  x_i  |   m   | eps  |\n",
      "+-------+-------+-------+------+\n",
      "|   2   | 1.467 | 13.13 | 0.01 |\n",
      "| 1.467 | 1.343 | 13.13 | 0.01 |\n",
      "| 1.343 | 1.285 | 13.13 | 0.01 |\n",
      "| 1.285 | 1.254 | 13.13 | 0.01 |\n",
      "| 1.254 | 1.237 | 13.13 | 0.01 |\n",
      "| 1.237 | 1.227 | 13.13 | 0.01 |\n",
      "+-------+-------+-------+------+\n"
     ]
    }
   ],
   "source": [
    "print(\n",
    "    s.simple_iteration(2),\n",
    "    '\\n',\n",
    "    s.get_log('simple_iteration')\n",
    ")"
   ]
  },
  {
   "cell_type": "markdown",
   "id": "8423c98c08f4ea8e",
   "metadata": {},
   "source": [
    "## Доп задание"
   ]
  },
  {
   "cell_type": "code",
   "execution_count": 17,
   "id": "8110ec8582389f6c",
   "metadata": {},
   "outputs": [],
   "source": [
    "s.eps = 1e-6\n",
    "s.degree = 6"
   ]
  },
  {
   "cell_type": "code",
   "execution_count": 18,
   "id": "fe72ca0eea5b6d74",
   "metadata": {},
   "outputs": [
    {
     "name": "stdout",
     "output_type": "stream",
     "text": [
      "1.213412 \n",
      " +----------+-------+\n",
      "|    x     |  eps  |\n",
      "+----------+-------+\n",
      "| 1.932692 | 1e-06 |\n",
      "| 1.860926 | 1e-06 |\n",
      "| 1.784208 | 1e-06 |\n",
      "| 1.702107 | 1e-06 |\n",
      "| 1.614442 | 1e-06 |\n",
      "| 1.521768 | 1e-06 |\n",
      "| 1.426491 | 1e-06 |\n",
      "| 1.335197 | 1e-06 |\n",
      "| 1.261632 | 1e-06 |\n",
      "| 1.222356 | 1e-06 |\n",
      "| 1.213749 | 1e-06 |\n",
      "| 1.213412 | 1e-06 |\n",
      "| 1.213412 | 1e-06 |\n",
      "+----------+-------+\n"
     ]
    }
   ],
   "source": [
    "print(\n",
    "    s.stephensen(2),\n",
    "    '\\n',\n",
    "    s.get_log('stephensen')\n",
    ")"
   ]
  },
  {
   "cell_type": "code",
   "execution_count": 19,
   "id": "6dc10bda16f873c1",
   "metadata": {},
   "outputs": [
    {
     "name": "stdout",
     "output_type": "stream",
     "text": [
      "1.213412 \n",
      " +----------+-------+\n",
      "|    x     |  eps  |\n",
      "+----------+-------+\n",
      "| 1.461787 | 1e-06 |\n",
      "| 1.247978 | 1e-06 |\n",
      "| 1.214215 | 1e-06 |\n",
      "| 1.213413 | 1e-06 |\n",
      "| 1.213412 | 1e-06 |\n",
      "+----------+-------+\n"
     ]
    }
   ],
   "source": [
    "print(\n",
    "    s.modified_newton(2, 1e-3),\n",
    "    '\\n',\n",
    "    s.get_log('modified_newton')\n",
    ")"
   ]
  }
 ],
 "metadata": {
  "kernelspec": {
   "display_name": "Python 3 (ipykernel)",
   "language": "python",
   "name": "python3"
  },
  "language_info": {
   "codemirror_mode": {
    "name": "ipython",
    "version": 3
   },
   "file_extension": ".py",
   "mimetype": "text/x-python",
   "name": "python",
   "nbconvert_exporter": "python",
   "pygments_lexer": "ipython3",
   "version": "3.9.13"
  }
 },
 "nbformat": 4,
 "nbformat_minor": 5
}
