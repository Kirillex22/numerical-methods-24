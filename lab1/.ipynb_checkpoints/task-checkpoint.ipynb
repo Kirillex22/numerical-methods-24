{
 "cells": [
  {
   "cell_type": "code",
   "id": "initial_id",
   "metadata": {
    "collapsed": true,
    "jupyter": {
     "is_executing": true
    }
   },
   "source": [
    "from iteration_methods import Solver\n",
    "\n",
    "s = Solver()\n",
    "s.target_function = lambda x: x**3 + x - 3\n",
    "s.derivatives = [\n",
    "    lambda x: 3*x**2 + 1,\n",
    "    lambda x: 6*x\n",
    "]"
   ],
   "outputs": [],
   "execution_count": null
  },
  {
   "metadata": {},
   "cell_type": "code",
   "outputs": [],
   "execution_count": null,
   "source": [
    "s.eps = 0.01\n",
    "a = 0\n",
    "b = 2\n",
    "#(f(a) = -3, f(b) = 7)"
   ],
   "id": "afdba6674e4b47b2"
  },
  {
   "metadata": {},
   "cell_type": "markdown",
   "source": "## Обязательные методы",
   "id": "b60de1f8724cc0dd"
  },
  {
   "metadata": {},
   "cell_type": "code",
   "outputs": [],
   "execution_count": null,
   "source": [
    "print(\n",
    "    s.dividing_in_half(a, b),\n",
    "    '\\n',\n",
    "    s.get_log('simple_iteration')\n",
    ")"
   ],
   "id": "2217a85f219ec103"
  },
  {
   "metadata": {},
   "cell_type": "code",
   "outputs": [],
   "execution_count": null,
   "source": [
    "print(\n",
    "    s.newton(a, b),\n",
    "    '\\n',\n",
    "    s.get_log('newton')\n",
    ")"
   ],
   "id": "25c1b66b618d15a7"
  },
  {
   "metadata": {},
   "cell_type": "code",
   "outputs": [],
   "execution_count": null,
   "source": [
    "print(\n",
    "    s.simple_iteration(2),\n",
    "    '\\n',\n",
    "    s.get_log('simple_iteration')\n",
    ")"
   ],
   "id": "212d8189ba53d557"
  },
  {
   "metadata": {},
   "cell_type": "markdown",
   "source": "## Доп задание",
   "id": "8423c98c08f4ea8e"
  },
  {
   "metadata": {},
   "cell_type": "code",
   "outputs": [],
   "execution_count": null,
   "source": "s.eps = 1e-6",
   "id": "8110ec8582389f6c"
  },
  {
   "metadata": {},
   "cell_type": "code",
   "outputs": [],
   "execution_count": null,
   "source": [
    "print(\n",
    "    s.stephensen(2),\n",
    "    '\\n',\n",
    "    s.get_log('stephensen')\n",
    ")"
   ],
   "id": "fe72ca0eea5b6d74"
  },
  {
   "metadata": {},
   "cell_type": "code",
   "outputs": [],
   "execution_count": null,
   "source": [
    "print(\n",
    "    s.modified_newton(2, 1e-3),\n",
    "    '\\n',\n",
    "    s.get_log('modified_newton')\n",
    ")"
   ],
   "id": "6dc10bda16f873c1"
  }
 ],
 "metadata": {
  "kernelspec": {
   "display_name": "Python 3",
   "language": "python",
   "name": "python3"
  },
  "language_info": {
   "codemirror_mode": {
    "name": "ipython",
    "version": 2
   },
   "file_extension": ".py",
   "mimetype": "text/x-python",
   "name": "python",
   "nbconvert_exporter": "python",
   "pygments_lexer": "ipython2",
   "version": "2.7.6"
  }
 },
 "nbformat": 4,
 "nbformat_minor": 5
}
