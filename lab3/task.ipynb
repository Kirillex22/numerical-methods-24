{
 "cells": [
  {
   "cell_type": "code",
   "execution_count": 12,
   "id": "initial_id",
   "metadata": {
    "ExecuteTime": {
     "end_time": "2024-11-03T13:37:49.922574Z",
     "start_time": "2024-11-03T13:37:49.918574Z"
    },
    "collapsed": true
   },
   "outputs": [],
   "source": [
    "from slau_methods import SlauSolver\n",
    "import numpy as np\n",
    "import pandas as pd"
   ]
  },
  {
   "cell_type": "code",
   "execution_count": 13,
   "id": "39976934a3e65eb7",
   "metadata": {
    "ExecuteTime": {
     "end_time": "2024-11-03T13:37:49.931575Z",
     "start_time": "2024-11-03T13:37:49.926574Z"
    }
   },
   "outputs": [],
   "source": [
    "s = SlauSolver()\n",
    "m = 4\n",
    "s.eps = 1e-2\n",
    "\n",
    "system1 = np.array([\n",
    "    [1, 1, 1, 1, 2],\n",
    "    [1, 2, 2, 2, 4],\n",
    "    [2, 3, 4, 4, 7],\n",
    "    [3, 4, 5, 6, 9]\n",
    "])\n",
    "\n",
    "system2 = np.array([\n",
    "    [3, 1, -1, 1, 3*m],\n",
    "    [1, -4, 1, -1, m-6],\n",
    "    [-1, 1, 4, 1, 15-m],\n",
    "    [1, 2, 1, -5, m+2]\n",
    "])\n",
    "\n",
    "\n",
    "start_point = np.array([0.7*m, 1, 2, 0.5])"
   ]
  },
  {
   "cell_type": "markdown",
   "id": "7c693d07dddd0e55",
   "metadata": {},
   "source": [
    "## Обязательное задание"
   ]
  },
  {
   "cell_type": "markdown",
   "id": "5da981cca9efa05b",
   "metadata": {},
   "source": []
  },
  {
   "cell_type": "code",
   "execution_count": 14,
   "id": "f01d1ae0ec73a454",
   "metadata": {
    "ExecuteTime": {
     "end_time": "2024-11-03T13:37:49.946575Z",
     "start_time": "2024-11-03T13:37:49.941575Z"
    }
   },
   "outputs": [
    {
     "name": "stdout",
     "output_type": "stream",
     "text": [
      "[0. 1. 1. 0.]\n",
      "[-0.  1.  1.  0.]\n"
     ]
    }
   ],
   "source": [
    "s.load_system(system1)\n",
    "gauss_res = s.gauss()\n",
    "\n",
    "s.load_system(system1)\n",
    "rev_res = s.rev_matrix()\n",
    "\n",
    "print(gauss_res)\n",
    "print(rev_res)"
   ]
  },
  {
   "cell_type": "code",
   "execution_count": 15,
   "id": "afcdb0ecc187c46a",
   "metadata": {
    "ExecuteTime": {
     "end_time": "2024-11-03T13:37:49.966575Z",
     "start_time": "2024-11-03T13:37:49.961578Z"
    }
   },
   "outputs": [],
   "source": [
    "s.load_system(system2)\n",
    "\n",
    "zeid_res, zeid_iter = s.zeidel(start_point)\n",
    "\n",
    "jac_res, jac_iter = s.jacobi(start_point)\n",
    "\n",
    "data = {\n",
    "    'Метод': ['Зейделя', 'Якоби'],\n",
    "    'Решение': [\", \".join(map(str, zeid_res)), \",\".join(map(str, jac_res))],\n",
    "    'Количество итераций': [zeid_iter, jac_iter],\n",
    "    'Точность': [s.eps, s.eps]\n",
    "}"
   ]
  },
  {
   "cell_type": "code",
   "execution_count": 16,
   "id": "705d640af0398564",
   "metadata": {
    "ExecuteTime": {
     "end_time": "2024-11-03T13:37:49.985574Z",
     "start_time": "2024-11-03T13:37:49.977574Z"
    }
   },
   "outputs": [
    {
     "data": {
      "text/html": [
       "<div>\n",
       "<style scoped>\n",
       "    .dataframe tbody tr th:only-of-type {\n",
       "        vertical-align: middle;\n",
       "    }\n",
       "\n",
       "    .dataframe tbody tr th {\n",
       "        vertical-align: top;\n",
       "    }\n",
       "\n",
       "    .dataframe thead th {\n",
       "        text-align: right;\n",
       "    }\n",
       "</style>\n",
       "<table border=\"1\" class=\"dataframe\">\n",
       "  <thead>\n",
       "    <tr style=\"text-align: right;\">\n",
       "      <th></th>\n",
       "      <th>Метод</th>\n",
       "      <th>Решение</th>\n",
       "      <th>Количество итераций</th>\n",
       "      <th>Точность</th>\n",
       "    </tr>\n",
       "  </thead>\n",
       "  <tbody>\n",
       "    <tr>\n",
       "      <th>0</th>\n",
       "      <td>Зейделя</td>\n",
       "      <td>3.999625, 2.00032, 2.99891, 0.999835</td>\n",
       "      <td>5</td>\n",
       "      <td>0.01</td>\n",
       "    </tr>\n",
       "    <tr>\n",
       "      <th>1</th>\n",
       "      <td>Якоби</td>\n",
       "      <td>4,2,3,1</td>\n",
       "      <td>4</td>\n",
       "      <td>0.01</td>\n",
       "    </tr>\n",
       "  </tbody>\n",
       "</table>\n",
       "</div>"
      ],
      "text/plain": [
       "     Метод                               Решение  Количество итераций   \n",
       "0  Зейделя  3.999625, 2.00032, 2.99891, 0.999835                    5  \\\n",
       "1    Якоби                               4,2,3,1                    4   \n",
       "\n",
       "   Точность  \n",
       "0      0.01  \n",
       "1      0.01  "
      ]
     },
     "execution_count": 16,
     "metadata": {},
     "output_type": "execute_result"
    }
   ],
   "source": [
    "df = pd.DataFrame(\n",
    "    data = data\n",
    ")\n",
    "\n",
    "df"
   ]
  },
  {
   "cell_type": "markdown",
   "id": "964e5d73e2fccda4",
   "metadata": {},
   "source": [
    "## Дополнительное задание"
   ]
  },
  {
   "cell_type": "code",
   "execution_count": null,
   "id": "8e6cf5e3dc4123f0",
   "metadata": {
    "ExecuteTime": {
     "end_time": "2024-11-03T13:37:50.059924Z",
     "start_time": "2024-11-03T13:37:50.049957Z"
    }
   },
   "outputs": [
    {
     "name": "stdout",
     "output_type": "stream",
     "text": [
      "OWN NUMS BY METHOD\n",
      "(7.529254624783662+5.345437411581251j)\n",
      "(7.529254624783662-5.345437411581251j)\n",
      "(-3.533410695436604+0j)\n",
      "(4.384901445869249+0j)\n",
      "\n",
      "OWN NUMS BY NUMPY\n",
      "(-3.533410695436603+0j)\n",
      "(7.529254624783671+5.345437411581237j)\n",
      "(7.529254624783671-5.345437411581237j)\n",
      "(4.38490144586925+0j)\n",
      "\n",
      "OWN VECTORS BY METHOD\n",
      "[ 0.72971626-0.37963275j  0.26251499+0.08273269j -0.14188644+0.41132076j\n",
      "  0.24147659+0.00262001j]\n",
      "--[ 0.72971626+0.37963275j  0.26251499-0.08273269j -0.14188644-0.41132076j\n",
      "  0.24147659-0.00262001j]\n",
      "--[ 0.96250606+0.j -0.2132098 +0.j -0.1676757 +0.j -0.00292068+0.j]\n",
      "--[ 0.39347614+0.j -0.00344661+0.j -0.34075582+0.j  0.85384432+0.j]\n",
      "\n",
      "OWN VECTORS BY NUMPY\n",
      "[-0.96250606+0.j -0.82256115+0.j -0.82256115-0.j  0.39347614+0.j]\n",
      "--[ 0.2132098 +0.j         -0.19470093-0.19455171j -0.19470093+0.19455171j\n",
      " -0.00344661+0.j        ]\n",
      "--[ 0.1676757 +0.j         0.31570622-0.2994096j  0.31570622+0.2994096j\n",
      " -0.34075582+0.j       ]\n",
      "--[ 0.00292068+0.j         -0.21301122-0.11377183j -0.21301122+0.11377183j\n",
      "  0.85384432+0.j        ]\n",
      "\n",
      "TEST\n",
      "[ 0.72971626-0.37963275j  0.26251499+0.08273269j -0.14188644+0.41132076j\n",
      "  0.24147659+0.00262001j]\n",
      "[ 0.72971626+0.37963275j  0.26251499-0.08273269j -0.14188644-0.41132076j\n",
      "  0.24147659-0.00262001j]\n",
      "[ 0.96250606-0.j -0.2132098 -0.j -0.1676757 -0.j -0.00292068-0.j]\n",
      "[ 0.39347614+0.j -0.00344661+0.j -0.34075582+0.j  0.85384432+0.j]\n"
     ]
    }
   ],
   "source": [
    "from own_nums import MatrixSolver\n",
    "\n",
    "ms = MatrixSolver()\n",
    "matrix = np.array([\n",
    "        [1.46, 23.14, -0.78, 1.13],\n",
    "        [2.31, 1.58, 6.73, 1.61],\n",
    "        [-0.13, -9.21, 7.41, 1.23],\n",
    "        [0.96, 1.23, 3.79, 5.46]\n",
    "    ]).astype(np.float64)\n",
    "\n",
    "ms.load_matrix(matrix)\n",
    "\n",
    "#используется метод неопределенных коэффициентов нахождения СЧ\n",
    "own_nums = ms.get_own_nums()\n",
    "print('OWN NUMS BY METHOD')\n",
    "print(\"\\n\".join(map(str, own_nums)))\n",
    "print()\n",
    "print('OWN NUMS BY NUMPY')\n",
    "print(\"\\n\".join(map(str, np.linalg.eig(matrix)[0])))\n",
    "\n",
    "print()\n",
    "\n",
    "# используется метод обратных итераций нахождения СВ\n",
    "own_vectors = ms.get_own_vectors(own_nums)\n",
    "\n",
    "print('OWN VECTORS BY METHOD')\n",
    "print(\"\\n--\".join(map(str, own_vectors)))\n",
    "print()\n",
    "print('OWN VECTORS BY NUMPY')\n",
    "print(\"\\n--\".join(map(str, np.linalg.eig(matrix)[1])))\n",
    "print()\n",
    "print('TEST')\n",
    "for num, own_vector in zip(own_nums, own_vectors):\n",
    "    print(np.dot(matrix, own_vector)/num)"
   ]
  }
 ],
 "metadata": {
  "kernelspec": {
   "display_name": "Python 3",
   "language": "python",
   "name": "python3"
  },
  "language_info": {
   "codemirror_mode": {
    "name": "ipython",
    "version": 2
   },
   "file_extension": ".py",
   "mimetype": "text/x-python",
   "name": "python",
   "nbconvert_exporter": "python",
   "pygments_lexer": "ipython2",
   "version": "2.7.6"
  }
 },
 "nbformat": 4,
 "nbformat_minor": 5
}
