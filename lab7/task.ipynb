{
 "cells": [
  {
   "metadata": {
    "ExecuteTime": {
     "end_time": "2024-12-02T11:55:26.704590Z",
     "start_time": "2024-12-02T11:55:26.641468Z"
    }
   },
   "cell_type": "code",
   "source": [
    "import math\n",
    "from integral_solver import *"
   ],
   "id": "a7ef85c56f044b0c",
   "outputs": [],
   "execution_count": 1
  },
  {
   "metadata": {},
   "cell_type": "markdown",
   "source": "## Начальные данные",
   "id": "505ecc677be87035"
  },
  {
   "cell_type": "code",
   "id": "initial_id",
   "metadata": {
    "collapsed": true,
    "ExecuteTime": {
     "end_time": "2024-12-02T11:55:26.713472Z",
     "start_time": "2024-12-02T11:55:26.710475Z"
    }
   },
   "source": [
    "func = lambda x: x**3 - math.sqrt(x)\n",
    "bounds = (1, 4)\n",
    "n = 6\n",
    "\n",
    "solver = IntegralSolver(func)"
   ],
   "outputs": [],
   "execution_count": 2
  },
  {
   "metadata": {},
   "cell_type": "markdown",
   "source": "## Разбиение на n узлов",
   "id": "73ad2ab0a176eb24"
  },
  {
   "metadata": {
    "ExecuteTime": {
     "end_time": "2024-12-02T11:55:26.921962Z",
     "start_time": "2024-12-02T11:55:26.918959Z"
    }
   },
   "cell_type": "code",
   "source": "solver.make_splitting2(n, bounds)",
   "id": "5a73f69346b8b84f",
   "outputs": [],
   "execution_count": 3
  },
  {
   "metadata": {},
   "cell_type": "markdown",
   "source": "### Метод прямоугольников",
   "id": "1ccd9f624b31f3e9"
  },
  {
   "metadata": {
    "ExecuteTime": {
     "end_time": "2024-12-02T11:55:26.934961Z",
     "start_time": "2024-12-02T11:55:26.930963Z"
    }
   },
   "cell_type": "code",
   "source": "print(solver.rectangle_method())",
   "id": "93d56998d1a11469",
   "outputs": [
    {
     "name": "stdout",
     "output_type": "stream",
     "text": [
      "41.84077217639207\n"
     ]
    }
   ],
   "execution_count": 4
  },
  {
   "metadata": {},
   "cell_type": "markdown",
   "source": "### Метод трапеций",
   "id": "a28864de8ca93704"
  },
  {
   "metadata": {
    "ExecuteTime": {
     "end_time": "2024-12-02T11:55:27.008003Z",
     "start_time": "2024-12-02T11:55:27.004005Z"
    }
   },
   "cell_type": "code",
   "source": "print(solver.trapezoid_method())",
   "id": "a55773de8095a766",
   "outputs": [
    {
     "name": "stdout",
     "output_type": "stream",
     "text": [
      "60.44077217639207\n"
     ]
    }
   ],
   "execution_count": 5
  },
  {
   "metadata": {},
   "cell_type": "markdown",
   "source": "## Создание 2n разбиения",
   "id": "5276a8d6059da653"
  },
  {
   "metadata": {
    "ExecuteTime": {
     "end_time": "2024-12-02T11:55:27.022430Z",
     "start_time": "2024-12-02T11:55:27.019098Z"
    }
   },
   "cell_type": "code",
   "source": "solver.make_splitting3(n, bounds)",
   "id": "5a93a08866334c4b",
   "outputs": [],
   "execution_count": 6
  },
  {
   "metadata": {},
   "cell_type": "markdown",
   "source": "### Метод Симпсона (парабол)",
   "id": "d0e5b10d7681a3ff"
  },
  {
   "metadata": {
    "ExecuteTime": {
     "end_time": "2024-12-02T11:55:27.035994Z",
     "start_time": "2024-12-02T11:55:27.031992Z"
    }
   },
   "cell_type": "code",
   "source": "print(solver.simpson_method())",
   "id": "1461a9a322755234",
   "outputs": [
    {
     "name": "stdout",
     "output_type": "stream",
     "text": [
      "43.87021185941169\n"
     ]
    }
   ],
   "execution_count": 7
  }
 ],
 "metadata": {
  "kernelspec": {
   "display_name": "Python 3",
   "language": "python",
   "name": "python3"
  },
  "language_info": {
   "codemirror_mode": {
    "name": "ipython",
    "version": 2
   },
   "file_extension": ".py",
   "mimetype": "text/x-python",
   "name": "python",
   "nbconvert_exporter": "python",
   "pygments_lexer": "ipython2",
   "version": "2.7.6"
  }
 },
 "nbformat": 4,
 "nbformat_minor": 5
}
