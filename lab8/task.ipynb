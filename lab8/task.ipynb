{
 "cells": [
  {
   "cell_type": "code",
   "id": "initial_id",
   "metadata": {
    "collapsed": true,
    "ExecuteTime": {
     "end_time": "2024-12-02T16:58:48.451443Z",
     "start_time": "2024-12-02T16:58:48.449443Z"
    }
   },
   "source": "from diff_solver import *",
   "outputs": [],
   "execution_count": 19
  },
  {
   "metadata": {
    "ExecuteTime": {
     "end_time": "2024-12-02T16:58:48.466447Z",
     "start_time": "2024-12-02T16:58:48.462447Z"
    }
   },
   "cell_type": "code",
   "source": "ds = DiffSolver()",
   "id": "e33bc6a33c13bba6",
   "outputs": [],
   "execution_count": 20
  },
  {
   "metadata": {},
   "cell_type": "markdown",
   "source": "## Задание № 1",
   "id": "a1db6e639be03c37"
  },
  {
   "metadata": {
    "ExecuteTime": {
     "end_time": "2024-12-02T16:58:48.479445Z",
     "start_time": "2024-12-02T16:58:48.476447Z"
    }
   },
   "cell_type": "code",
   "source": [
    "func = lambda x, y: y - 7*x\n",
    "ds.f = func\n",
    "point = [3, 3]\n",
    "bounds = [3, 5]\n",
    "h = 0.5"
   ],
   "id": "c8d7c66ef7d52ca6",
   "outputs": [],
   "execution_count": 21
  },
  {
   "metadata": {},
   "cell_type": "markdown",
   "source": "### Метод Эйлера",
   "id": "3ddfc80236971bd3"
  },
  {
   "metadata": {
    "ExecuteTime": {
     "end_time": "2024-12-02T16:58:48.494449Z",
     "start_time": "2024-12-02T16:58:48.488450Z"
    }
   },
   "cell_type": "code",
   "source": [
    "data = ds.euler_method(point, bounds, h)\n",
    "print(ds.make_table(data, ['x', 'y']))"
   ],
   "id": "914b57f73ca673fd",
   "outputs": [
    {
     "name": "stdout",
     "output_type": "stream",
     "text": [
      "+-----+---------+\n",
      "|  x  |    y    |\n",
      "+-----+---------+\n",
      "| 3.0 |   3.0   |\n",
      "| 3.5 |   -6.0  |\n",
      "| 4.0 |  -21.25 |\n",
      "| 4.5 | -45.875 |\n",
      "| 5.0 | -84.562 |\n",
      "+-----+---------+\n"
     ]
    }
   ],
   "execution_count": 22
  },
  {
   "metadata": {},
   "cell_type": "markdown",
   "source": "### Мод. метод Эйлера",
   "id": "6a6dd4379e1bf901"
  },
  {
   "metadata": {
    "ExecuteTime": {
     "end_time": "2024-12-02T16:58:48.526717Z",
     "start_time": "2024-12-02T16:58:48.523070Z"
    }
   },
   "cell_type": "code",
   "source": [
    "data = ds.mod_euler_method(point, bounds, h)\n",
    "print(ds.make_table(data, ['x', 'y']))"
   ],
   "id": "3ad3e36911d41a30",
   "outputs": [
    {
     "name": "stdout",
     "output_type": "stream",
     "text": [
      "+-----+----------+\n",
      "|  x  |    y     |\n",
      "+-----+----------+\n",
      "| 3.0 |   3.0    |\n",
      "| 3.5 |  -9.125  |\n",
      "| 4.0 | -31.016  |\n",
      "| 4.5 | -68.775  |\n",
      "| 5.0 | -132.323 |\n",
      "+-----+----------+\n"
     ]
    }
   ],
   "execution_count": 23
  },
  {
   "metadata": {},
   "cell_type": "markdown",
   "source": "### Метод Рунге-Кутта",
   "id": "2663868108d6a769"
  },
  {
   "metadata": {
    "ExecuteTime": {
     "end_time": "2024-12-02T16:58:48.597542Z",
     "start_time": "2024-12-02T16:58:48.591542Z"
    }
   },
   "cell_type": "code",
   "source": [
    "data = ds.runge_kutta_method(point, bounds, h)\n",
    "print(ds.make_table(data, ['x', 'y']))"
   ],
   "id": "fe9e54d973bda7e5",
   "outputs": [
    {
     "name": "stdout",
     "output_type": "stream",
     "text": [
      "+-----+----------+\n",
      "|  x  |    y     |\n",
      "+-----+----------+\n",
      "| 3.0 |   3.0    |\n",
      "| 3.5 |  -9.711  |\n",
      "| 4.0 | -32.934  |\n",
      "| 4.5 | -73.484  |\n",
      "| 5.0 | -142.599 |\n",
      "+-----+----------+\n"
     ]
    }
   ],
   "execution_count": 24
  },
  {
   "metadata": {},
   "cell_type": "markdown",
   "source": "## Задание № 2",
   "id": "fe6d57f1c66340ab"
  },
  {
   "metadata": {
    "ExecuteTime": {
     "end_time": "2024-12-02T16:58:48.684197Z",
     "start_time": "2024-12-02T16:58:48.680091Z"
    }
   },
   "cell_type": "code",
   "source": [
    "bounds = (0.4, 0.7)\n",
    "h = 0.1\n",
    "mfc = [1, -3, 1, 1]\n",
    "mfm = [lambda x: 1, lambda x: 1/x]\n",
    "\n",
    "le = [0, 1, 0.7]\n",
    "re = [0, 1, 1]"
   ],
   "id": "69702c0feb77fdc5",
   "outputs": [],
   "execution_count": 25
  },
  {
   "metadata": {
    "ExecuteTime": {
     "end_time": "2024-12-02T16:58:48.734594Z",
     "start_time": "2024-12-02T16:58:48.718595Z"
    }
   },
   "cell_type": "code",
   "source": "y, equations = ds.solve_edge_task(bounds, h, mfc, mfm, le, re)",
   "id": "410c051f64ffdcdc",
   "outputs": [],
   "execution_count": 26
  },
  {
   "metadata": {
    "ExecuteTime": {
     "end_time": "2024-12-02T16:58:48.758595Z",
     "start_time": "2024-12-02T16:58:48.753594Z"
    }
   },
   "cell_type": "code",
   "source": "print(f'y = {np.array(y)}')",
   "id": "9fefc80cf1cc3b72",
   "outputs": [
    {
     "name": "stdout",
     "output_type": "stream",
     "text": [
      "y = [0.205 0.275 0.375]\n"
     ]
    }
   ],
   "execution_count": 27
  },
  {
   "metadata": {
    "ExecuteTime": {
     "end_time": "2024-12-02T16:58:48.850027Z",
     "start_time": "2024-12-02T16:58:48.845029Z"
    }
   },
   "cell_type": "code",
   "source": [
    "print('equations')\n",
    "for eq in equations:\n",
    "    lhs_str = str(eq.lhs)  \n",
    "    rhs_str = str(eq.rhs) \n",
    "    print(lhs_str, \"=\", rhs_str)"
   ],
   "id": "95ed104d8dbb18e5",
   "outputs": [
    {
     "name": "stdout",
     "output_type": "stream",
     "text": [
      "equations\n",
      "-10.0*y0 + 10.0*y1 = 0.700000000000000\n",
      "115.0*y0 - 198.0*y1 + 85.0*y2 = 1\n",
      "-10.0*y1 + 10.0*y2 = 1\n"
     ]
    }
   ],
   "execution_count": 28
  }
 ],
 "metadata": {
  "kernelspec": {
   "display_name": "Python 3",
   "language": "python",
   "name": "python3"
  },
  "language_info": {
   "codemirror_mode": {
    "name": "ipython",
    "version": 2
   },
   "file_extension": ".py",
   "mimetype": "text/x-python",
   "name": "python",
   "nbconvert_exporter": "python",
   "pygments_lexer": "ipython2",
   "version": "2.7.6"
  }
 },
 "nbformat": 4,
 "nbformat_minor": 5
}
