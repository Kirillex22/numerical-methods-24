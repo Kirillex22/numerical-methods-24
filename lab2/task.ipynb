{
 "cells": [
  {
   "cell_type": "code",
   "id": "initial_id",
   "metadata": {
    "collapsed": true
   },
   "source": [
    "from slau_methods import SlauSolver\n",
    "import numpy as np\n",
    "import pandas as pd"
   ],
   "outputs": [],
   "execution_count": 1
  },
  {
   "metadata": {
    "ExecuteTime": {
     "end_time": "2024-10-24T13:33:20.083193Z",
     "start_time": "2024-10-24T13:33:20.077194Z"
    }
   },
   "cell_type": "code",
   "source": [
    "s = SlauSolver()\n",
    "m = 4\n",
    "s.eps = 1e-2\n",
    "\n",
    "system1 = np.array([\n",
    "    [1, 1, 1, 1, 2],\n",
    "    [1, 2, 2, 2, 4],\n",
    "    [2, 3, 4, 4, 7],\n",
    "    [3, 4, 5, 6, 9]\n",
    "])\n",
    "\n",
    "system2 = np.array([\n",
    "    [3, 1, -1, 1, 3*m],\n",
    "    [1, -4, 1, -1, m-6],\n",
    "    [-1, 1, 4, 1, 15-m],\n",
    "    [1, 2, 1, -5, m+2]\n",
    "])\n",
    "\n",
    "\n",
    "start_point = np.array([0.7*m, 1, 2, 0.5])"
   ],
   "id": "39976934a3e65eb7",
   "outputs": [],
   "execution_count": 2
  },
  {
   "metadata": {},
   "cell_type": "markdown",
   "source": "## Обязательное задание",
   "id": "7c693d07dddd0e55"
  },
  {
   "metadata": {},
   "cell_type": "markdown",
   "source": "",
   "id": "5da981cca9efa05b"
  },
  {
   "metadata": {
    "ExecuteTime": {
     "end_time": "2024-10-24T13:33:20.288192Z",
     "start_time": "2024-10-24T13:33:20.282231Z"
    }
   },
   "cell_type": "code",
   "source": [
    "s.load_system(system1)\n",
    "\n",
    "gauss_res = s.gauss()\n",
    "rev_res = s.rev_matrix()\n",
    "\n",
    "print(gauss_res)\n",
    "print(rev_res)"
   ],
   "id": "f01d1ae0ec73a454",
   "outputs": [
    {
     "name": "stdout",
     "output_type": "stream",
     "text": [
      "[0. 1. 1. 0.]\n",
      "[0. 1. 1. 0.]\n"
     ]
    }
   ],
   "execution_count": 3
  },
  {
   "metadata": {
    "ExecuteTime": {
     "end_time": "2024-10-24T13:33:20.355448Z",
     "start_time": "2024-10-24T13:33:20.349450Z"
    }
   },
   "cell_type": "code",
   "source": [
    "s.load_system(system2)\n",
    "\n",
    "zeid_res, zeid_iter = s.zeidel(start_point)\n",
    "\n",
    "jac_res, jac_iter = s.jacobi(start_point)\n",
    "\n",
    "data = {\n",
    "    'Метод': ['Зейделя', 'Якоби'],\n",
    "    'Решение': [\", \".join(map(str, zeid_res)), \",\".join(map(str, jac_res))],\n",
    "    'Количество итераций': [zeid_iter, jac_iter],\n",
    "    'Точность': [s.eps, s.eps]\n",
    "}"
   ],
   "id": "afcdb0ecc187c46a",
   "outputs": [],
   "execution_count": 4
  },
  {
   "metadata": {
    "ExecuteTime": {
     "end_time": "2024-10-24T13:33:20.378450Z",
     "start_time": "2024-10-24T13:33:20.367449Z"
    }
   },
   "cell_type": "code",
   "source": [
    "df = pd.DataFrame(\n",
    "    data = data\n",
    ")\n",
    "\n",
    "df"
   ],
   "id": "705d640af0398564",
   "outputs": [
    {
     "data": {
      "text/plain": [
       "     Метод                               Решение  Количество итераций   \n",
       "0  Зейделя  3.999625, 2.00032, 2.99891, 0.999835                    5  \\\n",
       "1    Якоби                               4,2,3,1                    4   \n",
       "\n",
       "   Точность  \n",
       "0      0.01  \n",
       "1      0.01  "
      ],
      "text/html": [
       "<div>\n",
       "<style scoped>\n",
       "    .dataframe tbody tr th:only-of-type {\n",
       "        vertical-align: middle;\n",
       "    }\n",
       "\n",
       "    .dataframe tbody tr th {\n",
       "        vertical-align: top;\n",
       "    }\n",
       "\n",
       "    .dataframe thead th {\n",
       "        text-align: right;\n",
       "    }\n",
       "</style>\n",
       "<table border=\"1\" class=\"dataframe\">\n",
       "  <thead>\n",
       "    <tr style=\"text-align: right;\">\n",
       "      <th></th>\n",
       "      <th>Метод</th>\n",
       "      <th>Решение</th>\n",
       "      <th>Количество итераций</th>\n",
       "      <th>Точность</th>\n",
       "    </tr>\n",
       "  </thead>\n",
       "  <tbody>\n",
       "    <tr>\n",
       "      <th>0</th>\n",
       "      <td>Зейделя</td>\n",
       "      <td>3.999625, 2.00032, 2.99891, 0.999835</td>\n",
       "      <td>5</td>\n",
       "      <td>0.01</td>\n",
       "    </tr>\n",
       "    <tr>\n",
       "      <th>1</th>\n",
       "      <td>Якоби</td>\n",
       "      <td>4,2,3,1</td>\n",
       "      <td>4</td>\n",
       "      <td>0.01</td>\n",
       "    </tr>\n",
       "  </tbody>\n",
       "</table>\n",
       "</div>"
      ]
     },
     "execution_count": 5,
     "metadata": {},
     "output_type": "execute_result"
    }
   ],
   "execution_count": 5
  }
 ],
 "metadata": {
  "kernelspec": {
   "display_name": "Python 3",
   "language": "python",
   "name": "python3"
  },
  "language_info": {
   "codemirror_mode": {
    "name": "ipython",
    "version": 2
   },
   "file_extension": ".py",
   "mimetype": "text/x-python",
   "name": "python",
   "nbconvert_exporter": "python",
   "pygments_lexer": "ipython2",
   "version": "2.7.6"
  }
 },
 "nbformat": 4,
 "nbformat_minor": 5
}
