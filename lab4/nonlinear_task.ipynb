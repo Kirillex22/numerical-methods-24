{
 "cells": [
  {
   "cell_type": "code",
   "id": "initial_id",
   "metadata": {
    "collapsed": true,
    "ExecuteTime": {
     "end_time": "2024-11-03T16:48:25.705300Z",
     "start_time": "2024-11-03T16:48:25.637265Z"
    }
   },
   "source": [
    "import math\n",
    "import numpy as np\n",
    "from nonlinear import NonlinearSolver"
   ],
   "outputs": [],
   "execution_count": 1
  },
  {
   "metadata": {
    "ExecuteTime": {
     "end_time": "2024-11-03T16:48:25.718268Z",
     "start_time": "2024-11-03T16:48:25.715306Z"
    }
   },
   "cell_type": "code",
   "source": [
    "nls = NonlinearSolver()\n",
    "nls.eps = 1e-3"
   ],
   "id": "5e1731fa14ad5c55",
   "outputs": [],
   "execution_count": 2
  },
  {
   "metadata": {
    "ExecuteTime": {
     "end_time": "2024-11-03T16:48:25.729268Z",
     "start_time": "2024-11-03T16:48:25.724268Z"
    }
   },
   "cell_type": "code",
   "source": [
    "system = [\n",
    "    lambda x, y: math.cos(y) + x - 1.5,\n",
    "    lambda x, y: 2*y - math.sin(x - 0.5) - 1\n",
    "]\n",
    "\n",
    "derivs = [\n",
    "    [lambda x, y: 1, lambda x, y: -math.sin(y)],\n",
    "    [lambda x, y: -math.cos(x-0.5), lambda x, y: 2],\n",
    "]"
   ],
   "id": "94ccc59cb5f0cf8",
   "outputs": [],
   "execution_count": 3
  },
  {
   "metadata": {
    "ExecuteTime": {
     "end_time": "2024-11-03T16:48:25.739268Z",
     "start_time": "2024-11-03T16:48:25.736302Z"
    }
   },
   "cell_type": "code",
   "source": "nls.load_system(system, derivs)",
   "id": "aceec8686fc7f103",
   "outputs": [],
   "execution_count": 4
  },
  {
   "metadata": {
    "ExecuteTime": {
     "end_time": "2024-11-03T16:48:25.954748Z",
     "start_time": "2024-11-03T16:48:25.948739Z"
    }
   },
   "cell_type": "code",
   "source": [
    "print(nls.jacobi())\n",
    "print(nls.zeidel())\n",
    "print(nls.newton(np.array([0.5, 0.5]).astype(float)))"
   ],
   "id": "e7d521cafc2f7d7d",
   "outputs": [
    {
     "name": "stdout",
     "output_type": "stream",
     "text": [
      "([0.6639266199682596, 0.5815186327780892], 10)\n",
      "([0.6643705614224404, 0.5818157043636036], 6)\n",
      "([0.6645944783626538, 0.5819261517547285], 3)\n"
     ]
    }
   ],
   "execution_count": 5
  }
 ],
 "metadata": {
  "kernelspec": {
   "display_name": "Python 3",
   "language": "python",
   "name": "python3"
  },
  "language_info": {
   "codemirror_mode": {
    "name": "ipython",
    "version": 2
   },
   "file_extension": ".py",
   "mimetype": "text/x-python",
   "name": "python",
   "nbconvert_exporter": "python",
   "pygments_lexer": "ipython2",
   "version": "2.7.6"
  }
 },
 "nbformat": 4,
 "nbformat_minor": 5
}
